{
  "nbformat": 4,
  "nbformat_minor": 0,
  "metadata": {
    "colab": {
      "provenance": [],
      "authorship_tag": "ABX9TyMRIhv/FBEx4yxRRRe4rK9F",
      "include_colab_link": true
    },
    "kernelspec": {
      "name": "python3",
      "display_name": "Python 3"
    },
    "language_info": {
      "name": "python"
    },
    "gpuClass": "standard"
  },
  "cells": [
    {
      "cell_type": "markdown",
      "metadata": {
        "id": "view-in-github",
        "colab_type": "text"
      },
      "source": [
        "<a href=\"https://colab.research.google.com/github/cbalkig/GoogleDriveFileDownloader/blob/main/GoogleDriveFileDownloader.ipynb\" target=\"_parent\"><img src=\"https://colab.research.google.com/assets/colab-badge.svg\" alt=\"Open In Colab\"/></a>"
      ]
    },
    {
      "cell_type": "code",
      "execution_count": 1,
      "metadata": {
        "id": "a7Gi-A7AFBt1"
      },
      "outputs": [],
      "source": [
        "SRC_URLS = [\"https://download.pytorch.org/whl/cu116/torch-1.13.0%2Bcu116-cp38-cp38-win_amd64.whl\",\n",
        "            \"https://download.pytorch.org/whl/cu117/torch-1.13.0%2Bcu117-cp38-cp38-win_amd64.whl\",\n",
        "            \"https://download.pytorch.org/whl/cu116/torch-1.13.1%2Bcu116-cp38-cp38-win_amd64.whl\",\n",
        "            \"https://download.pytorch.org/whl/cu117/torch-1.13.1%2Bcu117-cp38-cp38-win_amd64.whl\",\n",
        "            \"https://developer.download.nvidia.com/compute/cuda/12.0.0/local_installers/cuda_12.0.0_527.41_windows.exe\"]\n",
        "\n",
        "GOOGLE_DRIVE_PATH = \"NVIDIA\""
      ]
    },
    {
      "cell_type": "code",
      "source": [
        "from google.colab import drive\n",
        "drive.mount('/google_drive')"
      ],
      "metadata": {
        "colab": {
          "base_uri": "https://localhost:8080/"
        },
        "id": "UxHK6eq7FGJh",
        "outputId": "7f338c88-2009-4433-9f6c-0affc21ca62a"
      },
      "execution_count": 2,
      "outputs": [
        {
          "output_type": "stream",
          "name": "stdout",
          "text": [
            "Drive already mounted at /google_drive; to attempt to forcibly remount, call drive.mount(\"/google_drive\", force_remount=True).\n"
          ]
        }
      ]
    },
    {
      "cell_type": "code",
      "source": [
        "import requests\n",
        "import os\n",
        "import urllib.parse\n",
        "import base64\n",
        "import hashlib\n",
        "from tqdm import tqdm"
      ],
      "metadata": {
        "id": "j_G-ZZfVF0ZS"
      },
      "execution_count": 3,
      "outputs": []
    },
    {
      "cell_type": "code",
      "source": [
        "main_folder_path = os.path.join(\"/google_drive\", 'MyDrive', GOOGLE_DRIVE_PATH)"
      ],
      "metadata": {
        "id": "XivPkEWXGJbP"
      },
      "execution_count": 4,
      "outputs": []
    },
    {
      "cell_type": "code",
      "source": [
        "def process_file(SRC_URL):\n",
        "    print(SRC_URL)\n",
        "    r = requests.get(SRC_URL, stream = True)\n",
        "    print(r.status_code)\n",
        "\n",
        "    file_name = urllib.parse.unquote(SRC_URL.rsplit('/', 1)[-1])\n",
        "    target_file_path = os.path.join(main_folder_path, file_name)\n",
        "    print(target_file_path)\n",
        "\n",
        "    if os.path.exists(target_file_path):\n",
        "        print(\"File is already present\")\n",
        "        return\n",
        "\n",
        "    if r.status_code != 200:\n",
        "        print(r)\n",
        "        return\n",
        "\n",
        "    with open(target_file_path, \"wb\") as file:\n",
        "        total_size_in_bytes = int(r.headers.get('content-length', 0))\n",
        "        progress_bar = tqdm(total=total_size_in_bytes, unit='iB', unit_scale=True)\n",
        "\n",
        "        m = hashlib.md5()\n",
        "        for data in r.iter_content(chunk_size = 1024):\n",
        "            if not data:\n",
        "                break\n",
        "            progress_bar.update(len(data))\n",
        "            file.write(data)\n",
        "            m.update(data)\n",
        "        progress_bar.close()\n",
        "\n",
        "        print(\"Remote MD5:\", m.hexdigest())\n",
        "    \n",
        "    local_md5 = get_local_md5(target_file_path)\n",
        "    print(\"Local MD5:\", local_md5)\n",
        "\n",
        "    print(\"File saved to\", target_file_path)\n",
        "    print(\"\\n\")"
      ],
      "metadata": {
        "id": "2gV2IdvFJn2M"
      },
      "execution_count": 5,
      "outputs": []
    },
    {
      "cell_type": "code",
      "source": [
        "def get_local_md5(file_path):\n",
        "    with open(file_path, \"rb\") as file:\n",
        "        m = hashlib.md5()\n",
        "        while True:\n",
        "            data = file.read(1024)\n",
        "            if not data:\n",
        "                break\n",
        "            m.update(data)\n",
        "        return m.hexdigest()\n"
      ],
      "metadata": {
        "id": "d1utD9U6KF3I"
      },
      "execution_count": 6,
      "outputs": []
    },
    {
      "cell_type": "code",
      "source": [
        "target_paths = []\n",
        "for SRC_URL in SRC_URLS:\n",
        "    process_file(SRC_URL)\n",
        "    print(\"\\n\")"
      ],
      "metadata": {
        "colab": {
          "base_uri": "https://localhost:8080/"
        },
        "id": "IMtdVo1gJ2E_",
        "outputId": "58c43fd8-6ed4-47d8-880f-d9be89235d92"
      },
      "execution_count": 7,
      "outputs": [
        {
          "output_type": "stream",
          "name": "stdout",
          "text": [
            "https://download.pytorch.org/whl/cu116/torch-1.13.0%2Bcu116-cp38-cp38-win_amd64.whl\n",
            "200\n",
            "/google_drive/MyDrive/NVIDIA/torch-1.13.0+cu116-cp38-cp38-win_amd64.whl\n",
            "File is already present\n",
            "\n",
            "\n",
            "https://download.pytorch.org/whl/cu117/torch-1.13.0%2Bcu117-cp38-cp38-win_amd64.whl\n",
            "200\n",
            "/google_drive/MyDrive/NVIDIA/torch-1.13.0+cu117-cp38-cp38-win_amd64.whl\n",
            "File is already present\n",
            "\n",
            "\n",
            "https://download.pytorch.org/whl/cu116/torch-1.13.1%2Bcu116-cp38-cp38-win_amd64.whl\n",
            "200\n",
            "/google_drive/MyDrive/NVIDIA/torch-1.13.1+cu116-cp38-cp38-win_amd64.whl\n",
            "File is already present\n",
            "\n",
            "\n",
            "https://download.pytorch.org/whl/cu117/torch-1.13.1%2Bcu117-cp38-cp38-win_amd64.whl\n",
            "200\n",
            "/google_drive/MyDrive/NVIDIA/torch-1.13.1+cu117-cp38-cp38-win_amd64.whl\n",
            "File is already present\n",
            "\n",
            "\n",
            "https://developer.download.nvidia.com/compute/cuda/12.0.0/local_installers/cuda_12.0.0_527.41_windows.exe\n",
            "200\n",
            "/google_drive/MyDrive/NVIDIA/cuda_12.0.0_527.41_windows.exe\n",
            "File is already present\n",
            "\n",
            "\n"
          ]
        }
      ]
    }
  ]
}