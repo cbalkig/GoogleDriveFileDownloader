{
  "nbformat": 4,
  "nbformat_minor": 0,
  "metadata": {
    "colab": {
      "provenance": [],
      "authorship_tag": "ABX9TyODIgGaRWUj6mvzmK0zGii2",
      "include_colab_link": true
    },
    "kernelspec": {
      "name": "python3",
      "display_name": "Python 3"
    },
    "language_info": {
      "name": "python"
    },
    "gpuClass": "standard"
  },
  "cells": [
    {
      "cell_type": "markdown",
      "metadata": {
        "id": "view-in-github",
        "colab_type": "text"
      },
      "source": [
        "<a href=\"https://colab.research.google.com/github/cbalkig/GoogleDriveFileDownloader/blob/main/GoogleDriveFileDownloaderFromGoogleDrive.ipynb\" target=\"_parent\"><img src=\"https://colab.research.google.com/assets/colab-badge.svg\" alt=\"Open In Colab\"/></a>"
      ]
    },
    {
      "cell_type": "code",
      "execution_count": 1,
      "metadata": {
        "id": "a7Gi-A7AFBt1"
      },
      "outputs": [],
      "source": [
        "SRC_URLS = [\"https://drive.google.com/u/0/uc?id=1pMUp6GK4UMfqGE9gWxBi-1MfZw7OkjpC&export=download\"]\n",
        "\n",
        "GOOGLE_DRIVE_PATH = \"Lung Cancer - PET\""
      ]
    },
    {
      "cell_type": "code",
      "source": [
        "!pip install patool"
      ],
      "metadata": {
        "id": "GydRLZR5Ym_9"
      },
      "execution_count": null,
      "outputs": []
    },
    {
      "cell_type": "code",
      "source": [
        "from google.colab import drive\n",
        "drive.mount('/google_drive')"
      ],
      "metadata": {
        "colab": {
          "base_uri": "https://localhost:8080/"
        },
        "id": "UxHK6eq7FGJh",
        "outputId": "e3ddc0ba-6ce1-4f6c-c377-603cc926f06e"
      },
      "execution_count": 2,
      "outputs": [
        {
          "output_type": "stream",
          "name": "stdout",
          "text": [
            "Drive already mounted at /google_drive; to attempt to forcibly remount, call drive.mount(\"/google_drive\", force_remount=True).\n"
          ]
        }
      ]
    },
    {
      "cell_type": "code",
      "source": [
        "import requests\n",
        "import os\n",
        "import urllib.parse\n",
        "import base64\n",
        "import hashlib\n",
        "from tqdm import tqdm\n",
        "import gdown\n",
        "import patoolib"
      ],
      "metadata": {
        "id": "j_G-ZZfVF0ZS"
      },
      "execution_count": 3,
      "outputs": []
    },
    {
      "cell_type": "code",
      "source": [
        "main_folder_path = os.path.join(\"/google_drive\", 'MyDrive', GOOGLE_DRIVE_PATH)"
      ],
      "metadata": {
        "id": "XivPkEWXGJbP"
      },
      "execution_count": 4,
      "outputs": []
    },
    {
      "cell_type": "code",
      "source": [
        "def process_file(SRC_URL):\n",
        "    print(SRC_URL)\n",
        "    r = requests.get(SRC_URL, stream = True)\n",
        "    print(r.status_code)\n",
        "\n",
        "    file_name = urllib.parse.unquote(SRC_URL.rsplit('/', 1)[-1])\n",
        "    os.makedirs(main_folder_path, exist_ok=True)\n",
        "\n",
        "    target_file_path = os.path.join(main_folder_path, \"file.rar\")\n",
        "    print(target_file_path)\n",
        "\n",
        "    if os.path.exists(target_file_path):\n",
        "        print(\"File is already present\")\n",
        "    else:\n",
        "        gdown.download(SRC_URL, target_file_path, quiet=False)\n",
        "        local_md5 = get_local_md5(target_file_path)\n",
        "        print(\"Local MD5:\", local_md5)\n",
        "        patoolib.extract_archive(target_file_path, outdir=main_folder_path)\n",
        "\n",
        "    print(\"File saved to\", target_file_path)\n",
        "    print(\"\\n\")"
      ],
      "metadata": {
        "id": "2gV2IdvFJn2M"
      },
      "execution_count": 5,
      "outputs": []
    },
    {
      "cell_type": "code",
      "source": [
        "def get_local_md5(file_path):\n",
        "    with open(file_path, \"rb\") as file:\n",
        "        m = hashlib.md5()\n",
        "        while True:\n",
        "            data = file.read(1024)\n",
        "            if not data:\n",
        "                break\n",
        "            m.update(data)\n",
        "        return m.hexdigest()\n"
      ],
      "metadata": {
        "id": "d1utD9U6KF3I"
      },
      "execution_count": 6,
      "outputs": []
    },
    {
      "cell_type": "code",
      "source": [
        "target_paths = []\n",
        "for SRC_URL in SRC_URLS:\n",
        "    process_file(SRC_URL)\n",
        "    print(\"\\n\")"
      ],
      "metadata": {
        "colab": {
          "base_uri": "https://localhost:8080/"
        },
        "id": "IMtdVo1gJ2E_",
        "outputId": "38267e82-a3cf-4406-b616-0d1050559555"
      },
      "execution_count": 7,
      "outputs": [
        {
          "output_type": "stream",
          "name": "stdout",
          "text": [
            "https://drive.google.com/u/0/uc?id=1pMUp6GK4UMfqGE9gWxBi-1MfZw7OkjpC&export=download\n",
            "200\n",
            "/google_drive/MyDrive/Lung Cancer - PET/file.rar\n",
            "File is already present\n",
            "File saved to /google_drive/MyDrive/Lung Cancer - PET/file.rar\n",
            "\n",
            "\n",
            "\n",
            "\n"
          ]
        }
      ]
    }
  ]
}